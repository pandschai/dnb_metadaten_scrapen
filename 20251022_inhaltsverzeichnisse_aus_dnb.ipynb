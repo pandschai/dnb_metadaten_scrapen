{
 "cells": [
  {
   "cell_type": "code",
   "execution_count": 25,
   "id": "f16b3e2b",
   "metadata": {},
   "outputs": [
    {
     "data": {
      "text/plain": [
       "' \\nAbhängigkeiten für das Forum anpassen\\n\\n\\nAusgangslage: Programmierung kopiert von https://github.com/deutsche-nationalbibliothek/dnblab/blob/main/DNB_digitale_Inhaltsverzeichnisse_Tutorial.ipynb\\nthank you dnb...\\n\\nDie Abhängigkeiten der Programmierung sind angepasst, so dass sie ins VOEBB-Forum geladen werden können.\\n\\nZiel der Programmierung ist es:\\nich extrahiere die ISBNs eines Metadatesatzes als Array, gebe die ISBNs nacheinander in die Abfrage ein \\nund erhalte am Schluss den Metadatensatz angereichert mit dem Inhaltsverzeichnis in der Spalte „Inhaltsverzeichnis“.\\n\\nVom Exception Handling werden folgende Dinge abgedeckt:\\n\\nes gibt kein Medium mit der ISBN auf den DNB-Seiten (ausländisches Medium)\\nes gibt kein Inhaltsverzeichnis zu dem Medium auf den DNB-Seiten\\nes gibt Verbindungsprobleme bei der Stapelverarbeitung. In dem Fall versucht er insgesamt 5 Mal in Abstand von 8s.\\n\\n\\nDie Fuktionen dnb_sru und parse_record sind unverändert aus der DNB-Programmierung übernommen. \\n\\n\\n\\n\\n'"
      ]
     },
     "execution_count": 25,
     "metadata": {},
     "output_type": "execute_result"
    }
   ],
   "source": [
    "''' \n",
    "\n",
    "Ausgangslage: Programmierung kopiert von https://github.com/deutsche-nationalbibliothek/dnblab/blob/main/DNB_digitale_Inhaltsverzeichnisse_Tutorial.ipynb\n",
    "\n",
    "\n",
    "Die Abhängigkeiten der Programmierung sind angepasst, so dass sie ins VOEBB-Forum geladen werden können.\n",
    "\n",
    "Ziel der Programmierung ist es:\n",
    "ich extrahiere die ISBNs eines Metadatesatzes als Array, gebe die ISBNs nacheinander in die Abfrage ein \n",
    "und erhalte am Schluss den Metadatensatz angereichert mit dem Inhaltsverzeichnis in der Spalte „Inhaltsverzeichnis“.\n",
    "\n",
    "Vom Exception Handling werden folgende Dinge abgedeckt:\n",
    "\n",
    "es gibt kein Medium mit der ISBN auf den DNB-Seiten (ausländisches Medium)\n",
    "es gibt kein Inhaltsverzeichnis zu dem Medium auf den DNB-Seiten\n",
    "es gibt Verbindungsprobleme bei der Stapelverarbeitung. In dem Fall versucht er insgesamt 5 Mal in Abstand von 8s.\n",
    "\n",
    "\n",
    "Die Fuktionen dnb_sru und parse_record sind unverändert aus der DNB-Programmierung übernommen. \n",
    "\n",
    "ToDo:\n",
    "Copywarning am Ende adressieren\n",
    "Die Speicherung als Excel funktioniert nicht. Speicherdatenformat überdenken - wie geht der Datenflow weiter?\n",
    "\n",
    "\n",
    "'''\n"
   ]
  },
  {
   "cell_type": "code",
   "execution_count": 26,
   "id": "4282fd7f",
   "metadata": {},
   "outputs": [],
   "source": [
    "# Stand 22. Okt. 2025"
   ]
  },
  {
   "cell_type": "code",
   "execution_count": 27,
   "id": "f9e42af1",
   "metadata": {},
   "outputs": [],
   "source": [
    "\n",
    "\n",
    "import re\n",
    "import requests\n",
    "import unicodedata\n",
    "from lxml import etree\n",
    "import pandas as pd\n",
    "from bs4 import BeautifulSoup as soup\n",
    "from collections import Counter\n",
    "from requests.adapters import HTTPAdapter\n",
    "from urllib3.util.retry import Retry\n",
    "from datetime import datetime\n"
   ]
  },
  {
   "cell_type": "code",
   "execution_count": 28,
   "id": "0b7b0cc2",
   "metadata": {},
   "outputs": [],
   "source": [
    "#laden der mit den inhaltsverzeichnissen anzureichernden Datei\n",
    "#\n",
    "\n",
    "df = pd.read_excel('20251010_dummy_titelliste_2.xlsx')"
   ]
  },
  {
   "cell_type": "code",
   "execution_count": 29,
   "id": "1bf07e69",
   "metadata": {},
   "outputs": [],
   "source": [
    "# hinzufügen der Splate \"inhaltsverzeichnis\"\n",
    "\n",
    "df['inhaltsverzeichnis']=pd.Series(dtype=\"str\")\n",
    "#df['links']=pd.Series(dtype=\"str\")"
   ]
  },
  {
   "cell_type": "code",
   "execution_count": 30,
   "id": "24a18ed9",
   "metadata": {},
   "outputs": [
    {
     "name": "stdout",
     "output_type": "stream",
     "text": [
      "978-3-0358-0042-5\n",
      "0-415-17473-2\n",
      "978-3-518-22511-0\n",
      "978-3-942449-36-6\n",
      "978-3-8376-2446-5\n",
      "978-3-7416-2280-9\n",
      "978-3-7416-1018-9\n",
      "978-3-7416-0481-2\n",
      "978-3-86201-588-7\n",
      "978-3-86201-326-5\n",
      "978-3-7416-2003-4\n",
      "978-3-949866-04-3\n",
      "978-3-608-98658-7\n",
      "978-3-946807-54-4\n",
      "978-3-95972-375-6\n",
      "978-3-7074-5294-5\n",
      "978-3-98921-091-2\n"
     ]
    }
   ],
   "source": [
    "# array mit ISBN-Werten erstellen\n",
    "isbn=df['ISBN']\n",
    "for i in isbn:\n",
    "    print(i)"
   ]
  },
  {
   "cell_type": "code",
   "execution_count": 31,
   "id": "fd84c2fb",
   "metadata": {},
   "outputs": [],
   "source": [
    "# Funktion kopiert aus einem DNB Workshop im Netz:\n",
    "#https://github.com/deutsche-nationalbibliothek/dnblab/blob/main/DNB_digitale_Inhaltsverzeichnisse_Tutorial.ipynb\n",
    "# scraped den zu der isbn gehörenden kompletten datensatz von der internetseite\n",
    "\n",
    "def dnb_sru(query):\n",
    "    \n",
    "    base_url = \"https://services.dnb.de/sru/dnb\"\n",
    "    params = {'recordSchema' : 'MARC21-xml',\n",
    "          'operation': 'searchRetrieve',\n",
    "          'version': '1.1',\n",
    "          'maximumRecords': '10',\n",
    "          'query': query\n",
    "         }\n",
    "    r = requests.get(base_url, params=params)\n",
    "    xml = soup(r.content, features=\"xml\")\n",
    "    records = xml.find_all('record', {'type':'Bibliographic'})\n",
    "    \n",
    "    if len(records) < 10:\n",
    "        \n",
    "        return records\n",
    "    \n",
    "    else:\n",
    "        \n",
    "        num_results = 10\n",
    "        i = 11\n",
    "        while num_results == 10:\n",
    "            \n",
    "            params.update({'startRecord': i})\n",
    "            r = requests.get(base_url, params=params)\n",
    "            xml = soup(r.content, features=\"xml\")\n",
    "            new_records = xml.find_all('record', {'type':'Bibliographic'})\n",
    "            records+=new_records\n",
    "            i+=10\n",
    "            num_results = len(new_records)\n",
    "            \n",
    "        return records"
   ]
  },
  {
   "cell_type": "code",
   "execution_count": 32,
   "id": "996e0c29",
   "metadata": {},
   "outputs": [],
   "source": [
    "# Funktion kopiert aus einem DNB Workshop im Netz:\n",
    "#https://github.com/deutsche-nationalbibliothek/dnblab/blob/main/DNB_digitale_Inhaltsverzeichnisse_Tutorial.ipynb\n",
    "# scraped den link zum inhaltsverzeichnis aus dem record datensatz\n",
    "# hier kannst du dann auch andere Marc-Felder wie SChlagwort adressieren\n",
    "\n",
    "def parse_record(record):\n",
    "    \n",
    "    ns = {\"marc\":\"http://www.loc.gov/MARC21/slim\"}\n",
    "    xml = etree.fromstring(unicodedata.normalize(\"NFC\", str(record)))\n",
    "    \n",
    "    \n",
    "    descriptions = xml.xpath(\"marc:datafield[@tag = '856']/marc:subfield[@code = '3']\", namespaces=ns)\n",
    "    links = xml.xpath(\"marc:datafield[@tag = '856']/marc:subfield[@code = 'u']\", namespaces=ns)\n",
    "    \n",
    "    try:\n",
    "        description1 = descriptions[0].text\n",
    "    except:\n",
    "        description1 = \"unknown\"\n",
    "        \n",
    "    try: \n",
    "        description2 = descriptions[1].text\n",
    "    except:\n",
    "        description2 = \"unknown\"\n",
    "        \n",
    "        \n",
    "    if description1 == \"Inhaltsverzeichnis\": \n",
    "        link = links[0].text\n",
    "    elif description2 == \"Inhaltsverzeichnis\": \n",
    "        link = links[1].text\n",
    "    else:\n",
    "        link = \"unknown\"\n",
    "\n",
    "    \n",
    "        \n",
    "        \n",
    "    meta_dict = {\"link\":link + '/text'}\n",
    "    \n",
    "    return meta_dict"
   ]
  },
  {
   "cell_type": "code",
   "execution_count": 33,
   "id": "23bdba98",
   "metadata": {},
   "outputs": [],
   "source": [
    "# initiert die Variable mit der der Index des Dataframes in der untenstehenden for-Schleife \n",
    "#trotz exception handling adressiert werden kann\n",
    "t=-1 \n",
    "\n",
    "# falls die Verbindung zur Webseite abgelehnt wird, ist das eine Funktion die die \n",
    "#Wiederholung der Abfrage organisiert\n",
    "\n",
    "session = requests.Session()\n",
    "\n",
    "retries = Retry(\n",
    "    total=5,                    # total attempts\n",
    "    backoff_factor=8,           # wait 1, 2, 4, 8, ... seconds between retries\n",
    "    status_forcelist=[500, 502, 503, 504],  # retry on these HTTP codes\n",
    "    allowed_methods=[\"GET\", \"POST\"]\n",
    ")"
   ]
  },
  {
   "cell_type": "code",
   "execution_count": 34,
   "id": "c3681532",
   "metadata": {},
   "outputs": [
    {
     "name": "stdout",
     "output_type": "stream",
     "text": [
      "Download successful: 978-3-942449-36-6.txt\n"
     ]
    },
    {
     "name": "stderr",
     "output_type": "stream",
     "text": [
      "/home/elsa_swift/anaconda3/lib/python3.9/site-packages/pandas/core/indexing.py:1732: SettingWithCopyWarning: \n",
      "A value is trying to be set on a copy of a slice from a DataFrame\n",
      "\n",
      "See the caveats in the documentation: https://pandas.pydata.org/pandas-docs/stable/user_guide/indexing.html#returning-a-view-versus-a-copy\n",
      "  self._setitem_single_block(indexer, value, name)\n"
     ]
    },
    {
     "name": "stdout",
     "output_type": "stream",
     "text": [
      "Download successful: 978-3-7416-2280-9.txt\n"
     ]
    },
    {
     "name": "stderr",
     "output_type": "stream",
     "text": [
      "/home/elsa_swift/anaconda3/lib/python3.9/site-packages/pandas/core/indexing.py:1732: SettingWithCopyWarning: \n",
      "A value is trying to be set on a copy of a slice from a DataFrame\n",
      "\n",
      "See the caveats in the documentation: https://pandas.pydata.org/pandas-docs/stable/user_guide/indexing.html#returning-a-view-versus-a-copy\n",
      "  self._setitem_single_block(indexer, value, name)\n"
     ]
    },
    {
     "name": "stdout",
     "output_type": "stream",
     "text": [
      "Download successful: 978-3-7416-0481-2.txt\n"
     ]
    },
    {
     "name": "stderr",
     "output_type": "stream",
     "text": [
      "/home/elsa_swift/anaconda3/lib/python3.9/site-packages/pandas/core/indexing.py:1732: SettingWithCopyWarning: \n",
      "A value is trying to be set on a copy of a slice from a DataFrame\n",
      "\n",
      "See the caveats in the documentation: https://pandas.pydata.org/pandas-docs/stable/user_guide/indexing.html#returning-a-view-versus-a-copy\n",
      "  self._setitem_single_block(indexer, value, name)\n"
     ]
    },
    {
     "name": "stdout",
     "output_type": "stream",
     "text": [
      "Download successful: 978-3-7416-2003-4.txt\n"
     ]
    },
    {
     "name": "stderr",
     "output_type": "stream",
     "text": [
      "/home/elsa_swift/anaconda3/lib/python3.9/site-packages/pandas/core/indexing.py:1732: SettingWithCopyWarning: \n",
      "A value is trying to be set on a copy of a slice from a DataFrame\n",
      "\n",
      "See the caveats in the documentation: https://pandas.pydata.org/pandas-docs/stable/user_guide/indexing.html#returning-a-view-versus-a-copy\n",
      "  self._setitem_single_block(indexer, value, name)\n"
     ]
    },
    {
     "name": "stdout",
     "output_type": "stream",
     "text": [
      "Download successful: 978-3-608-98658-7.txt\n"
     ]
    },
    {
     "name": "stderr",
     "output_type": "stream",
     "text": [
      "/home/elsa_swift/anaconda3/lib/python3.9/site-packages/pandas/core/indexing.py:1732: SettingWithCopyWarning: \n",
      "A value is trying to be set on a copy of a slice from a DataFrame\n",
      "\n",
      "See the caveats in the documentation: https://pandas.pydata.org/pandas-docs/stable/user_guide/indexing.html#returning-a-view-versus-a-copy\n",
      "  self._setitem_single_block(indexer, value, name)\n"
     ]
    },
    {
     "name": "stdout",
     "output_type": "stream",
     "text": [
      "Download successful: 978-3-95972-375-6.txt\n"
     ]
    },
    {
     "name": "stderr",
     "output_type": "stream",
     "text": [
      "/home/elsa_swift/anaconda3/lib/python3.9/site-packages/pandas/core/indexing.py:1732: SettingWithCopyWarning: \n",
      "A value is trying to be set on a copy of a slice from a DataFrame\n",
      "\n",
      "See the caveats in the documentation: https://pandas.pydata.org/pandas-docs/stable/user_guide/indexing.html#returning-a-view-versus-a-copy\n",
      "  self._setitem_single_block(indexer, value, name)\n"
     ]
    },
    {
     "name": "stdout",
     "output_type": "stream",
     "text": [
      "Download successful: 978-3-7074-5294-5.txt\n"
     ]
    },
    {
     "name": "stderr",
     "output_type": "stream",
     "text": [
      "/home/elsa_swift/anaconda3/lib/python3.9/site-packages/pandas/core/indexing.py:1732: SettingWithCopyWarning: \n",
      "A value is trying to be set on a copy of a slice from a DataFrame\n",
      "\n",
      "See the caveats in the documentation: https://pandas.pydata.org/pandas-docs/stable/user_guide/indexing.html#returning-a-view-versus-a-copy\n",
      "  self._setitem_single_block(indexer, value, name)\n"
     ]
    }
   ],
   "source": [
    "for i in isbn:\n",
    "    records = dnb_sru(i)\n",
    "    inhaltsverzeichnis = [parse_record(record) for record in records]\n",
    "    x = pd.DataFrame(inhaltsverzeichnis)\n",
    "\n",
    "    # \"t\" nimmt den Index des Dataframes in den das Inhaltsverzeichnis geladen werden soll\n",
    "    # mit in die for-Schleife (s.u.)\n",
    "    t += 1\n",
    "\n",
    "    # wenn der Titel kein Inhaltsverzeichnis hat\n",
    "    if \"unknown/text\" in str(x):\n",
    "        continue\n",
    "\n",
    "    # wenn der titel nicht in der dnb vorkommt (ausländischer titel)\n",
    "    if inhaltsverzeichnis == []:\n",
    "        continue\n",
    "    \n",
    "    # url speichert den Link zum Inhaltsverzeichnis\n",
    "    url=x['link'].iloc[0]\n",
    "    \n",
    "    # Filename speichert das Inhaltsverzeichnis unter isbn +'.txt'\n",
    "    filename = str(i) + \".txt\"\n",
    "    \n",
    "    # folgende Angaben organisieren die wiederholte Anfrage an die DNB-Seite, wenn die Verbindung \n",
    "    # abgelehnt wurde und den Download der Datei\n",
    "    adapter = HTTPAdapter(max_retries=retries)\n",
    "    session.mount(\"http://\", adapter)\n",
    "    session.mount(\"https://\", adapter)\n",
    "    \n",
    "    \n",
    "    try:\n",
    "        r = requests.get(url, timeout=15)\n",
    "        r.raise_for_status()\n",
    "        with open(filename, \"wb\") as f:\n",
    "            f.write(r.content)\n",
    "            print(\"Download successful:\", filename)\n",
    "    except requests.exceptions.RequestException as e:\n",
    "        print(\"Download failed:\", e)\n",
    "    \n",
    "    # lädt die Donwload-Datei und speichert sie in den Dataframe mit den Metadaten.\n",
    "    z=pd.read_fwf(filename)   # gespeicherte datei öffnen und in der variablen \"z\"speichern\n",
    "    df['inhaltsverzeichnis'].iloc[t]= z   # z in richigen Reihe und Spalte des Dataframe speichern\n",
    "    \n",
    "\n",
    "\n",
    "    "
   ]
  },
  {
   "cell_type": "code",
   "execution_count": 35,
   "id": "bec07288",
   "metadata": {},
   "outputs": [
    {
     "data": {
      "text/plain": [
       "0                                                   NaN\n",
       "1                                                   NaN\n",
       "2                                                   NaN\n",
       "3                                                   ...\n",
       "4                                                   NaN\n",
       "5                  INNERES LICHT Unnamed: 1  Unnamed...\n",
       "6                                                   NaN\n",
       "7                           NIEMANDSLAND: (UN)RECHT ...\n",
       "8                                                   NaN\n",
       "9                                                   NaN\n",
       "10       SCHRECKLICH Kapitel 1 Terrible, Part 1 of3 ...\n",
       "11                                                  NaN\n",
       "12                                                In...\n",
       "13                                                  NaN\n",
       "14                                                  ...\n",
       "15         FRANZIS IDEEN für die Pflanzen\n",
       "0         ...\n",
       "16                                                  NaN\n",
       "Name: inhaltsverzeichnis, dtype: object"
      ]
     },
     "execution_count": 35,
     "metadata": {},
     "output_type": "execute_result"
    }
   ],
   "source": [
    "# angaben korrekt?\n",
    "\n",
    "df['inhaltsverzeichnis']"
   ]
  },
  {
   "cell_type": "code",
   "execution_count": 37,
   "id": "cd6969c6",
   "metadata": {},
   "outputs": [],
   "source": [
    "# dataframe als excel speichern\n",
    "# funktioniert nicht - excel scheint auch nicht das richige Speicherformat.\n",
    "# Wie geht der Datenflow weiter?\n",
    "\n",
    "\n",
    "# aktuelles Datum im Format JJJJ-MM-TT\n",
    "#heute = datetime.now().strftime(\"%Y-%m-%d\")\n",
    "\n",
    "\n",
    "\n",
    "\n",
    "#df.to_excel(heute+'_inhaltverzeichnisse_anreichern.xlsx')"
   ]
  },
  {
   "cell_type": "code",
   "execution_count": null,
   "id": "806a958d",
   "metadata": {},
   "outputs": [],
   "source": []
  }
 ],
 "metadata": {
  "kernelspec": {
   "display_name": "Python 3 (ipykernel)",
   "language": "python",
   "name": "python3"
  },
  "language_info": {
   "codemirror_mode": {
    "name": "ipython",
    "version": 3
   },
   "file_extension": ".py",
   "mimetype": "text/x-python",
   "name": "python",
   "nbconvert_exporter": "python",
   "pygments_lexer": "ipython3",
   "version": "3.9.7"
  }
 },
 "nbformat": 4,
 "nbformat_minor": 5
}
